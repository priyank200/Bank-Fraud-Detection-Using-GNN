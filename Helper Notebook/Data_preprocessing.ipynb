{
 "cells": [
  {
   "cell_type": "code",
   "execution_count": 126,
   "metadata": {},
   "outputs": [],
   "source": [
    "# %% Importing Libarries\n",
    "import pandas as pd\n",
    "import networkx as nx\n",
    "import matplotlib.pyplot as plt\n",
    "from tqdm import tqdm\n",
    "import numpy as np\n",
    "from sklearn.pipeline import Pipeline\n",
    "from sklearn.impute import SimpleImputer\n",
    "from sklearn.preprocessing import RobustScaler, OrdinalEncoder, StandardScaler\n",
    "from sklearn.compose import ColumnTransformer"
   ]
  },
  {
   "cell_type": "code",
   "execution_count": 127,
   "metadata": {},
   "outputs": [],
   "source": [
    "DATA_DIR = \"SAML\""
   ]
  },
  {
   "cell_type": "code",
   "execution_count": 128,
   "metadata": {},
   "outputs": [],
   "source": [
    "df_train = pd.read_csv(f\"{DATA_DIR}/train_transactions.csv\")\n",
    "df_test = pd.read_csv(f\"{DATA_DIR}/test_transactions.csv\")"
   ]
  },
  {
   "cell_type": "code",
   "execution_count": 129,
   "metadata": {},
   "outputs": [
    {
     "data": {
      "text/html": [
       "<div>\n",
       "<style scoped>\n",
       "    .dataframe tbody tr th:only-of-type {\n",
       "        vertical-align: middle;\n",
       "    }\n",
       "\n",
       "    .dataframe tbody tr th {\n",
       "        vertical-align: top;\n",
       "    }\n",
       "\n",
       "    .dataframe thead th {\n",
       "        text-align: right;\n",
       "    }\n",
       "</style>\n",
       "<table border=\"1\" class=\"dataframe\">\n",
       "  <thead>\n",
       "    <tr style=\"text-align: right;\">\n",
       "      <th></th>\n",
       "      <th>Sender_account</th>\n",
       "      <th>Receiver_account</th>\n",
       "      <th>Amount</th>\n",
       "      <th>Payment_currency</th>\n",
       "      <th>Received_currency</th>\n",
       "      <th>Sender_bank_location</th>\n",
       "      <th>Receiver_bank_location</th>\n",
       "      <th>Payment_type</th>\n",
       "      <th>Is_laundering</th>\n",
       "      <th>Laundering_type</th>\n",
       "      <th>Year</th>\n",
       "      <th>Month</th>\n",
       "      <th>Day</th>\n",
       "      <th>Week</th>\n",
       "    </tr>\n",
       "  </thead>\n",
       "  <tbody>\n",
       "    <tr>\n",
       "      <th>0</th>\n",
       "      <td>3293686547</td>\n",
       "      <td>2857585278</td>\n",
       "      <td>591.16</td>\n",
       "      <td>UK pounds</td>\n",
       "      <td>UK pounds</td>\n",
       "      <td>UK</td>\n",
       "      <td>UK</td>\n",
       "      <td>ACH</td>\n",
       "      <td>0</td>\n",
       "      <td>Normal_Small_Fan_Out</td>\n",
       "      <td>2023</td>\n",
       "      <td>5</td>\n",
       "      <td>5</td>\n",
       "      <td>18</td>\n",
       "    </tr>\n",
       "    <tr>\n",
       "      <th>1</th>\n",
       "      <td>345409480</td>\n",
       "      <td>3629277366</td>\n",
       "      <td>186.54</td>\n",
       "      <td>UK pounds</td>\n",
       "      <td>UK pounds</td>\n",
       "      <td>UK</td>\n",
       "      <td>UK</td>\n",
       "      <td>Debit card</td>\n",
       "      <td>0</td>\n",
       "      <td>Normal_Small_Fan_Out</td>\n",
       "      <td>2022</td>\n",
       "      <td>10</td>\n",
       "      <td>21</td>\n",
       "      <td>42</td>\n",
       "    </tr>\n",
       "    <tr>\n",
       "      <th>2</th>\n",
       "      <td>2207083075</td>\n",
       "      <td>8166004515</td>\n",
       "      <td>9368.07</td>\n",
       "      <td>UK pounds</td>\n",
       "      <td>UK pounds</td>\n",
       "      <td>UK</td>\n",
       "      <td>UK</td>\n",
       "      <td>Debit card</td>\n",
       "      <td>0</td>\n",
       "      <td>Normal_Fan_Out</td>\n",
       "      <td>2023</td>\n",
       "      <td>5</td>\n",
       "      <td>3</td>\n",
       "      <td>18</td>\n",
       "    </tr>\n",
       "    <tr>\n",
       "      <th>3</th>\n",
       "      <td>1715402599</td>\n",
       "      <td>1146874022</td>\n",
       "      <td>9453.61</td>\n",
       "      <td>UK pounds</td>\n",
       "      <td>UK pounds</td>\n",
       "      <td>UK</td>\n",
       "      <td>UK</td>\n",
       "      <td>Debit card</td>\n",
       "      <td>0</td>\n",
       "      <td>Normal_Fan_In</td>\n",
       "      <td>2023</td>\n",
       "      <td>7</td>\n",
       "      <td>12</td>\n",
       "      <td>28</td>\n",
       "    </tr>\n",
       "    <tr>\n",
       "      <th>4</th>\n",
       "      <td>3059424812</td>\n",
       "      <td>3532465761</td>\n",
       "      <td>2306.49</td>\n",
       "      <td>UK pounds</td>\n",
       "      <td>UK pounds</td>\n",
       "      <td>UK</td>\n",
       "      <td>UK</td>\n",
       "      <td>Debit card</td>\n",
       "      <td>0</td>\n",
       "      <td>Normal_Small_Fan_Out</td>\n",
       "      <td>2023</td>\n",
       "      <td>2</td>\n",
       "      <td>25</td>\n",
       "      <td>8</td>\n",
       "    </tr>\n",
       "  </tbody>\n",
       "</table>\n",
       "</div>"
      ],
      "text/plain": [
       "   Sender_account  Receiver_account   Amount Payment_currency  \\\n",
       "0      3293686547        2857585278   591.16        UK pounds   \n",
       "1       345409480        3629277366   186.54        UK pounds   \n",
       "2      2207083075        8166004515  9368.07        UK pounds   \n",
       "3      1715402599        1146874022  9453.61        UK pounds   \n",
       "4      3059424812        3532465761  2306.49        UK pounds   \n",
       "\n",
       "  Received_currency Sender_bank_location Receiver_bank_location Payment_type  \\\n",
       "0         UK pounds                   UK                     UK          ACH   \n",
       "1         UK pounds                   UK                     UK   Debit card   \n",
       "2         UK pounds                   UK                     UK   Debit card   \n",
       "3         UK pounds                   UK                     UK   Debit card   \n",
       "4         UK pounds                   UK                     UK   Debit card   \n",
       "\n",
       "   Is_laundering       Laundering_type  Year  Month  Day  Week  \n",
       "0              0  Normal_Small_Fan_Out  2023      5    5    18  \n",
       "1              0  Normal_Small_Fan_Out  2022     10   21    42  \n",
       "2              0        Normal_Fan_Out  2023      5    3    18  \n",
       "3              0         Normal_Fan_In  2023      7   12    28  \n",
       "4              0  Normal_Small_Fan_Out  2023      2   25     8  "
      ]
     },
     "execution_count": 129,
     "metadata": {},
     "output_type": "execute_result"
    }
   ],
   "source": [
    "df_train.head()"
   ]
  },
  {
   "cell_type": "code",
   "execution_count": 136,
   "metadata": {},
   "outputs": [
    {
     "data": {
      "text/html": [
       "<div>\n",
       "<style scoped>\n",
       "    .dataframe tbody tr th:only-of-type {\n",
       "        vertical-align: middle;\n",
       "    }\n",
       "\n",
       "    .dataframe tbody tr th {\n",
       "        vertical-align: top;\n",
       "    }\n",
       "\n",
       "    .dataframe thead th {\n",
       "        text-align: right;\n",
       "    }\n",
       "</style>\n",
       "<table border=\"1\" class=\"dataframe\">\n",
       "  <thead>\n",
       "    <tr style=\"text-align: right;\">\n",
       "      <th></th>\n",
       "      <th>Sender_account</th>\n",
       "      <th>Receiver_account</th>\n",
       "      <th>Amount</th>\n",
       "      <th>Payment_currency</th>\n",
       "      <th>Received_currency</th>\n",
       "      <th>Sender_bank_location</th>\n",
       "      <th>Receiver_bank_location</th>\n",
       "      <th>Payment_type</th>\n",
       "      <th>Is_laundering</th>\n",
       "      <th>Laundering_type</th>\n",
       "      <th>Year</th>\n",
       "      <th>Month</th>\n",
       "      <th>Day</th>\n",
       "      <th>Week</th>\n",
       "    </tr>\n",
       "  </thead>\n",
       "  <tbody>\n",
       "    <tr>\n",
       "      <th>0</th>\n",
       "      <td>6077900993</td>\n",
       "      <td>6609117934</td>\n",
       "      <td>2299.89</td>\n",
       "      <td>UK pounds</td>\n",
       "      <td>UK pounds</td>\n",
       "      <td>UK</td>\n",
       "      <td>UK</td>\n",
       "      <td>Debit card</td>\n",
       "      <td>0</td>\n",
       "      <td>Normal_Group</td>\n",
       "      <td>2022</td>\n",
       "      <td>10</td>\n",
       "      <td>8</td>\n",
       "      <td>40</td>\n",
       "    </tr>\n",
       "    <tr>\n",
       "      <th>1</th>\n",
       "      <td>5459041199</td>\n",
       "      <td>816242179</td>\n",
       "      <td>211.90</td>\n",
       "      <td>UK pounds</td>\n",
       "      <td>UK pounds</td>\n",
       "      <td>UK</td>\n",
       "      <td>UK</td>\n",
       "      <td>Cheque</td>\n",
       "      <td>0</td>\n",
       "      <td>Normal_Small_Fan_Out</td>\n",
       "      <td>2023</td>\n",
       "      <td>7</td>\n",
       "      <td>8</td>\n",
       "      <td>27</td>\n",
       "    </tr>\n",
       "    <tr>\n",
       "      <th>2</th>\n",
       "      <td>4641798002</td>\n",
       "      <td>5214523833</td>\n",
       "      <td>9481.26</td>\n",
       "      <td>UK pounds</td>\n",
       "      <td>UK pounds</td>\n",
       "      <td>UK</td>\n",
       "      <td>UK</td>\n",
       "      <td>ACH</td>\n",
       "      <td>0</td>\n",
       "      <td>Normal_Fan_In</td>\n",
       "      <td>2023</td>\n",
       "      <td>6</td>\n",
       "      <td>29</td>\n",
       "      <td>26</td>\n",
       "    </tr>\n",
       "    <tr>\n",
       "      <th>3</th>\n",
       "      <td>1475899462</td>\n",
       "      <td>6151077027</td>\n",
       "      <td>11609.92</td>\n",
       "      <td>UK pounds</td>\n",
       "      <td>UK pounds</td>\n",
       "      <td>UK</td>\n",
       "      <td>UK</td>\n",
       "      <td>Debit card</td>\n",
       "      <td>0</td>\n",
       "      <td>Normal_Fan_Out</td>\n",
       "      <td>2023</td>\n",
       "      <td>2</td>\n",
       "      <td>27</td>\n",
       "      <td>9</td>\n",
       "    </tr>\n",
       "    <tr>\n",
       "      <th>4</th>\n",
       "      <td>8046287266</td>\n",
       "      <td>3423799664</td>\n",
       "      <td>17772.58</td>\n",
       "      <td>UK pounds</td>\n",
       "      <td>UK pounds</td>\n",
       "      <td>UK</td>\n",
       "      <td>UK</td>\n",
       "      <td>ACH</td>\n",
       "      <td>0</td>\n",
       "      <td>Normal_Fan_In</td>\n",
       "      <td>2023</td>\n",
       "      <td>6</td>\n",
       "      <td>14</td>\n",
       "      <td>24</td>\n",
       "    </tr>\n",
       "  </tbody>\n",
       "</table>\n",
       "</div>"
      ],
      "text/plain": [
       "   Sender_account  Receiver_account    Amount Payment_currency  \\\n",
       "0      6077900993        6609117934   2299.89        UK pounds   \n",
       "1      5459041199         816242179    211.90        UK pounds   \n",
       "2      4641798002        5214523833   9481.26        UK pounds   \n",
       "3      1475899462        6151077027  11609.92        UK pounds   \n",
       "4      8046287266        3423799664  17772.58        UK pounds   \n",
       "\n",
       "  Received_currency Sender_bank_location Receiver_bank_location Payment_type  \\\n",
       "0         UK pounds                   UK                     UK   Debit card   \n",
       "1         UK pounds                   UK                     UK       Cheque   \n",
       "2         UK pounds                   UK                     UK          ACH   \n",
       "3         UK pounds                   UK                     UK   Debit card   \n",
       "4         UK pounds                   UK                     UK          ACH   \n",
       "\n",
       "   Is_laundering       Laundering_type  Year  Month  Day  Week  \n",
       "0              0          Normal_Group  2022     10    8    40  \n",
       "1              0  Normal_Small_Fan_Out  2023      7    8    27  \n",
       "2              0         Normal_Fan_In  2023      6   29    26  \n",
       "3              0        Normal_Fan_Out  2023      2   27     9  \n",
       "4              0         Normal_Fan_In  2023      6   14    24  "
      ]
     },
     "execution_count": 136,
     "metadata": {},
     "output_type": "execute_result"
    }
   ],
   "source": [
    "df_test.head()"
   ]
  },
  {
   "cell_type": "code",
   "execution_count": 137,
   "metadata": {},
   "outputs": [
    {
     "data": {
      "text/plain": [
       "Index(['Sender_account', 'Receiver_account', 'Amount', 'Is_laundering', 'Year',\n",
       "       'Month', 'Day', 'Week'],\n",
       "      dtype='object')"
      ]
     },
     "execution_count": 137,
     "metadata": {},
     "output_type": "execute_result"
    }
   ],
   "source": [
    "numerical_features = df_train.select_dtypes(exclude=\"object\").columns\n",
    "numerical_features"
   ]
  },
  {
   "cell_type": "code",
   "execution_count": 138,
   "metadata": {},
   "outputs": [
    {
     "data": {
      "text/plain": [
       "Index(['Payment_currency', 'Received_currency', 'Sender_bank_location',\n",
       "       'Receiver_bank_location', 'Payment_type', 'Laundering_type'],\n",
       "      dtype='object')"
      ]
     },
     "execution_count": 138,
     "metadata": {},
     "output_type": "execute_result"
    }
   ],
   "source": [
    "categorical_features = df_train.select_dtypes(include=\"object\").columns\n",
    "categorical_features"
   ]
  },
  {
   "cell_type": "code",
   "execution_count": 139,
   "metadata": {},
   "outputs": [
    {
     "data": {
      "text/plain": [
       "Index(['Amount'], dtype='object')"
      ]
     },
     "execution_count": 139,
     "metadata": {},
     "output_type": "execute_result"
    }
   ],
   "source": [
    "# droping feature on which I don't want any tranformation\n",
    "numerical_features = numerical_features.drop([\"Is_laundering\",\"Sender_account\", \"Receiver_account\",\"Year\", \"Month\", \"Day\", \"Week\"])\n",
    "numerical_features"
   ]
  },
  {
   "cell_type": "code",
   "execution_count": 140,
   "metadata": {},
   "outputs": [],
   "source": [
    "other_columns = [\"Is_laundering\",\"Sender_account\", \"Receiver_account\",\"Year\", \"Month\", \"Day\", \"Week\"]"
   ]
  },
  {
   "cell_type": "code",
   "execution_count": 141,
   "metadata": {},
   "outputs": [
    {
     "name": "stdout",
     "output_type": "stream",
     "text": [
      "categorical_features = Index(['Payment_currency', 'Received_currency', 'Sender_bank_location',\n",
      "       'Receiver_bank_location', 'Payment_type', 'Laundering_type'],\n",
      "      dtype='object')\n",
      "numerical_features = Index(['Amount'], dtype='object')\n",
      "other_columns = ['Is_laundering', 'Sender_account', 'Receiver_account', 'Year', 'Month', 'Day', 'Week']\n"
     ]
    }
   ],
   "source": [
    "print(f\"{categorical_features = }\\n{numerical_features = }\\n{other_columns = }\")"
   ]
  },
  {
   "cell_type": "code",
   "execution_count": 142,
   "metadata": {},
   "outputs": [],
   "source": [
    "# Function to transform numerical features\n",
    "def transform_numerical(data, num_imputer, num_scaler, numerical_features):\n",
    "    # Impute missing values\n",
    "    numerical_imputed = num_imputer.transform(data[numerical_features])\n",
    "    # Scale the data\n",
    "    numerical_scaled = num_scaler.transform(numerical_imputed)\n",
    "    # Convert to DataFrame to preserve column names\n",
    "    return pd.DataFrame(numerical_scaled, columns=numerical_features)\n",
    "\n",
    "\n",
    "# Function to transform categorical features\n",
    "def transform_categorical(data, cat_imputer, cat_encoder, categorical_features):\n",
    "    # Impute missing values\n",
    "    categorical_imputed = cat_imputer.transform(data[categorical_features])\n",
    "    # Encode the data\n",
    "    categorical_encoded = cat_encoder.transform(categorical_imputed)\n",
    "    # Convert to DataFrame to preserve column names\n",
    "    return pd.DataFrame(categorical_encoded, columns=categorical_features)"
   ]
  },
  {
   "cell_type": "code",
   "execution_count": 143,
   "metadata": {},
   "outputs": [],
   "source": [
    "# Function to fit and transform df_train (training data)\n",
    "def fit_and_transform_train(df_train_transformed, numerical_features, categorical_features):\n",
    "    # Step 1: Fit SimpleImputer and RobustScaler for numerical features\n",
    "    num_imputer = SimpleImputer(strategy='median')\n",
    "    num_scaler = RobustScaler()\n",
    "    num_imputer.fit(df_train_transformed[numerical_features])\n",
    "    num_scaler.fit(df_train_transformed[numerical_features])\n",
    "\n",
    "    # Step 2: Fit SimpleImputer and OrdinalEncoder for categorical features\n",
    "    cat_imputer = SimpleImputer(strategy='most_frequent')\n",
    "    cat_encoder = OrdinalEncoder()\n",
    "    cat_imputer.fit(df_train_transformed[categorical_features])\n",
    "    cat_encoder.fit(df_train_transformed[categorical_features])\n",
    "\n",
    "    # Step 3: Apply transformations\n",
    "    df_train_transformed[numerical_features] = transform_numerical(df_train_transformed, num_imputer, num_scaler, numerical_features)\n",
    "    df_train_transformed[categorical_features] = transform_categorical(df_train_transformed, cat_imputer, cat_encoder, categorical_features)\n",
    "\n",
    "    return df_train_transformed, num_imputer, num_scaler, cat_imputer, cat_encoder"
   ]
  },
  {
   "cell_type": "code",
   "execution_count": 144,
   "metadata": {},
   "outputs": [],
   "source": [
    "# Function to transform df_test (test data) using the fitted transformers\n",
    "def transform_test(df_test_transformed, num_imputer, num_scaler, cat_imputer, cat_encoder, numerical_features, categorical_features):\n",
    "    df_test_transformed[numerical_features] = transform_numerical(df_test_transformed, num_imputer, num_scaler, numerical_features)\n",
    "    df_test_transformed[categorical_features] = transform_categorical(df_test_transformed, cat_imputer, cat_encoder, categorical_features)\n",
    "\n",
    "    return df_test_transformed"
   ]
  },
  {
   "cell_type": "code",
   "execution_count": 145,
   "metadata": {},
   "outputs": [
    {
     "name": "stderr",
     "output_type": "stream",
     "text": [
      "c:\\kush\\GNN Project\\Project 1\\.venv\\Lib\\site-packages\\sklearn\\base.py:493: UserWarning: X does not have valid feature names, but RobustScaler was fitted with feature names\n",
      "  warnings.warn(\n",
      "c:\\kush\\GNN Project\\Project 1\\.venv\\Lib\\site-packages\\sklearn\\base.py:493: UserWarning: X does not have valid feature names, but OrdinalEncoder was fitted with feature names\n",
      "  warnings.warn(\n"
     ]
    }
   ],
   "source": [
    "# Fit and transform the training data\n",
    "df_train_transformed = df_train.copy(deep=True)\n",
    "df_train_transformed, num_imputer, num_scaler, cat_imputer, cat_encoder = fit_and_transform_train(\n",
    "    df_train_transformed, numerical_features, categorical_features)"
   ]
  },
  {
   "cell_type": "code",
   "execution_count": 146,
   "metadata": {},
   "outputs": [],
   "source": [
    "df_train_transformed.to_csv(f'{DATA_DIR}/train_transactions_transformed.csv', index=False)\n"
   ]
  },
  {
   "cell_type": "code",
   "execution_count": 147,
   "metadata": {},
   "outputs": [
    {
     "name": "stderr",
     "output_type": "stream",
     "text": [
      "c:\\kush\\GNN Project\\Project 1\\.venv\\Lib\\site-packages\\sklearn\\base.py:493: UserWarning: X does not have valid feature names, but RobustScaler was fitted with feature names\n",
      "  warnings.warn(\n",
      "c:\\kush\\GNN Project\\Project 1\\.venv\\Lib\\site-packages\\sklearn\\base.py:493: UserWarning: X does not have valid feature names, but OrdinalEncoder was fitted with feature names\n",
      "  warnings.warn(\n"
     ]
    }
   ],
   "source": [
    "# Transform the test data using the fitted transformers\n",
    "df_test_transformed = df_test.copy(deep=True)\n",
    "df_test_transformed = transform_test(df_test_transformed, num_imputer, num_scaler, cat_imputer, cat_encoder, \n",
    "                         numerical_features, categorical_features)"
   ]
  },
  {
   "cell_type": "code",
   "execution_count": 148,
   "metadata": {},
   "outputs": [],
   "source": [
    "df_test_transformed.to_csv(f'{DATA_DIR}/test_transactions_transformed.csv', index=False)\n"
   ]
  },
  {
   "cell_type": "code",
   "execution_count": 114,
   "metadata": {},
   "outputs": [],
   "source": [
    "all_accounts = pd.concat([df_train['Sender_account'], df_train['Receiver_account']]).unique()\n",
    "account_to_index = {account: idx for idx, account in enumerate(all_accounts)}\n",
    "num_accounts = len(all_accounts)"
   ]
  },
  {
   "cell_type": "code",
   "execution_count": 110,
   "metadata": {},
   "outputs": [
    {
     "data": {
      "text/plain": [
       "2"
      ]
     },
     "execution_count": 110,
     "metadata": {},
     "output_type": "execute_result"
    }
   ],
   "source": [
    "df_train[df_train['Sender_account']==92172]['Sender_bank_location'].unique().shape[0]"
   ]
  },
  {
   "cell_type": "code",
   "execution_count": 153,
   "metadata": {},
   "outputs": [
    {
     "data": {
      "text/plain": [
       "np.float64(20.0)"
      ]
     },
     "execution_count": 153,
     "metadata": {},
     "output_type": "execute_result"
    }
   ],
   "source": [
    "df_train_transformed['Laundering_type'].values[0]"
   ]
  },
  {
   "cell_type": "code",
   "execution_count": 125,
   "metadata": {},
   "outputs": [
    {
     "data": {
      "text/plain": [
       "np.float64(17.0)"
      ]
     },
     "execution_count": 125,
     "metadata": {},
     "output_type": "execute_result"
    }
   ],
   "source": [
    "df_train_transformed['Sender_bank_location'].unique().max()"
   ]
  },
  {
   "cell_type": "code",
   "execution_count": null,
   "metadata": {},
   "outputs": [],
   "source": []
  }
 ],
 "metadata": {
  "kernelspec": {
   "display_name": ".venv",
   "language": "python",
   "name": "python3"
  },
  "language_info": {
   "codemirror_mode": {
    "name": "ipython",
    "version": 3
   },
   "file_extension": ".py",
   "mimetype": "text/x-python",
   "name": "python",
   "nbconvert_exporter": "python",
   "pygments_lexer": "ipython3",
   "version": "3.11.5"
  }
 },
 "nbformat": 4,
 "nbformat_minor": 2
}
